{
 "cells": [
  {
   "cell_type": "markdown",
   "id": "519f7b13",
   "metadata": {},
   "source": [
    "**Write a Python program that accepts the radius of a circle from the user and computes the area.**"
   ]
  },
  {
   "cell_type": "code",
   "execution_count": 4,
   "id": "f4c8e58e",
   "metadata": {},
   "outputs": [
    {
     "name": "stdout",
     "output_type": "stream",
     "text": [
      "Insert the radius of the circle= 2\n"
     ]
    },
    {
     "data": {
      "text/plain": [
       "'Area of the given radius 2.0 is 12.566370614359172'"
      ]
     },
     "execution_count": 4,
     "metadata": {},
     "output_type": "execute_result"
    }
   ],
   "source": [
    "import math\n",
    "pi=math.pi\n",
    "Radius=float(input('Insert the radius of the circle= '))\n",
    "Area=str(pi * Radius**2)\n",
    "answer= ('Area of the given radius {} is {}')\n",
    "answer.format(Radius,Area)"
   ]
  },
  {
   "cell_type": "markdown",
   "id": "44eff95e",
   "metadata": {},
   "source": [
    "**Write a Python program to display the first and last colors from the following list. color_list = [\"Red\",\"Green\",\"White\" ,\"Black\"]**"
   ]
  },
  {
   "cell_type": "code",
   "execution_count": 5,
   "id": "4bf0adcc",
   "metadata": {},
   "outputs": [
    {
     "data": {
      "text/plain": [
       "('Red', 'Black')"
      ]
     },
     "execution_count": 5,
     "metadata": {},
     "output_type": "execute_result"
    }
   ],
   "source": [
    "color_list = [\"Red\",\"Green\",\"White\" ,\"Black\"]\n",
    "color_list[0],color_list[-1]"
   ]
  },
  {
   "cell_type": "markdown",
   "id": "06a6db21",
   "metadata": {},
   "source": [
    "**Write a Python program that accepts an integer (n) and computes the value of n+nn+nnn.**"
   ]
  },
  {
   "cell_type": "code",
   "execution_count": 6,
   "id": "fc96d4ce",
   "metadata": {},
   "outputs": [
    {
     "name": "stdout",
     "output_type": "stream",
     "text": [
      "Enter a number= 3\n",
      "The total sum is: 39.0\n"
     ]
    }
   ],
   "source": [
    "n=float(input(\"Enter a number= \"))\n",
    "num1=float(n)\n",
    "num2=float(n*n)\n",
    "num3=float(n*n*n)\n",
    "TotalSum=num1+num2+num3\n",
    "print(\"The total sum is:\",TotalSum)"
   ]
  },
  {
   "cell_type": "markdown",
   "id": "5493ef9d",
   "metadata": {},
   "source": [
    "**Write a Python program to get the difference between a given number and 17, if the number is greater than 17 return double the absolute difference.**"
   ]
  },
  {
   "cell_type": "code",
   "execution_count": 7,
   "id": "cfc5c150",
   "metadata": {},
   "outputs": [
    {
     "data": {
      "text/plain": [
       "26"
      ]
     },
     "execution_count": 7,
     "metadata": {},
     "output_type": "execute_result"
    }
   ],
   "source": [
    "def my_func(n):\n",
    "    if n <=17:\n",
    "        return 17-n\n",
    "    else:\n",
    "        return abs(17-n)*2\n",
    "my_func(30)"
   ]
  },
  {
   "cell_type": "markdown",
   "id": "09d569ee",
   "metadata": {},
   "source": [
    "**Write a Python program to calculate the sum of three given numbers, if the values are equal then return three times their sum.**"
   ]
  },
  {
   "cell_type": "code",
   "execution_count": 10,
   "id": "7ca31d46",
   "metadata": {},
   "outputs": [
    {
     "data": {
      "text/plain": [
       "7"
      ]
     },
     "execution_count": 10,
     "metadata": {},
     "output_type": "execute_result"
    }
   ],
   "source": [
    "def three(x,y,z):\n",
    "    sum=x+y+z\n",
    "    if x==y==z:\n",
    "        sum=sum*3\n",
    "    return sum\n",
    "three(3,1,3)"
   ]
  },
  {
   "cell_type": "code",
   "execution_count": 19,
   "id": "729d19cd",
   "metadata": {},
   "outputs": [
    {
     "data": {
      "text/plain": [
       "27"
      ]
     },
     "execution_count": 19,
     "metadata": {},
     "output_type": "execute_result"
    }
   ],
   "source": [
    "three(3,3,3)"
   ]
  },
  {
   "cell_type": "markdown",
   "id": "a0a8e3ac",
   "metadata": {},
   "source": [
    "**Write a Python program to test whether a passed letter is a vowel or not.**"
   ]
  },
  {
   "cell_type": "code",
   "execution_count": 11,
   "id": "7cf739d7",
   "metadata": {},
   "outputs": [],
   "source": [
    "def its_vowel(str):\n",
    "    \n",
    "    vowel = ['a','A','E','e','I','i','O','o','U','u']\n",
    "    \n",
    "    if str in vowel:\n",
    "        print('it is a vowel')\n",
    "    else:\n",
    "        print('it is a consonant')"
   ]
  },
  {
   "cell_type": "code",
   "execution_count": 15,
   "id": "fce1541b",
   "metadata": {},
   "outputs": [
    {
     "name": "stdout",
     "output_type": "stream",
     "text": [
      "it is a vowel\n",
      "it is a consonant\n"
     ]
    }
   ],
   "source": [
    "its_vowel('a')\n",
    "its_vowel('d')"
   ]
  },
  {
   "cell_type": "markdown",
   "id": "8b3f9330",
   "metadata": {},
   "source": [
    "**Write a Python program to replace the string \"Python\" with \"Java\" and \"Java\" with \"Python\" in a given string.**"
   ]
  },
  {
   "cell_type": "code",
   "execution_count": 20,
   "id": "d6009282",
   "metadata": {},
   "outputs": [
    {
     "data": {
      "text/plain": [
       "\"['Python', 'Python']\""
      ]
     },
     "execution_count": 20,
     "metadata": {},
     "output_type": "execute_result"
    }
   ],
   "source": [
    "a=[\"Python\",\"Java\"]\n",
    "x=str(a)\n",
    "x.replace(\"Java\",\"Python\")"
   ]
  },
  {
   "cell_type": "markdown",
   "id": "882a0b77",
   "metadata": {},
   "source": [
    "**Write a python program to reverse a given string.**"
   ]
  },
  {
   "cell_type": "code",
   "execution_count": 23,
   "id": "1feddbed",
   "metadata": {},
   "outputs": [
    {
     "name": "stdout",
     "output_type": "stream",
     "text": [
      "inset the letter which u want to reverse : Hello World\n"
     ]
    },
    {
     "data": {
      "text/plain": [
       "'dlroW olleH'"
      ]
     },
     "execution_count": 23,
     "metadata": {},
     "output_type": "execute_result"
    }
   ],
   "source": [
    "word=input('inset the letter which u want to reverse : ')[::-1]\n",
    "word"
   ]
  },
  {
   "cell_type": "code",
   "execution_count": null,
   "id": "e006bc2e",
   "metadata": {},
   "outputs": [],
   "source": []
  }
 ],
 "metadata": {
  "kernelspec": {
   "display_name": "Python 3 (ipykernel)",
   "language": "python",
   "name": "python3"
  },
  "language_info": {
   "codemirror_mode": {
    "name": "ipython",
    "version": 3
   },
   "file_extension": ".py",
   "mimetype": "text/x-python",
   "name": "python",
   "nbconvert_exporter": "python",
   "pygments_lexer": "ipython3",
   "version": "3.9.12"
  }
 },
 "nbformat": 4,
 "nbformat_minor": 5
}
